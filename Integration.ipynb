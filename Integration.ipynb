{
  "nbformat": 4,
  "nbformat_minor": 0,
  "metadata": {
    "colab": {
      "name": "Integration.ipynb",
      "provenance": [],
      "collapsed_sections": [],
      "authorship_tag": "ABX9TyMA3cbRhxz4iR9egRtzX2+g",
      "include_colab_link": true
    },
    "kernelspec": {
      "name": "python3",
      "display_name": "Python 3"
    },
    "language_info": {
      "name": "python"
    }
  },
  "cells": [
    {
      "cell_type": "markdown",
      "metadata": {
        "id": "view-in-github",
        "colab_type": "text"
      },
      "source": [
        "<a href=\"https://colab.research.google.com/github/kema1989/EnglishTrainer/blob/master/Integration.ipynb\" target=\"_parent\"><img src=\"https://colab.research.google.com/assets/colab-badge.svg\" alt=\"Open In Colab\"/></a>"
      ]
    },
    {
      "cell_type": "code",
      "metadata": {
        "colab": {
          "base_uri": "https://localhost:8080/"
        },
        "id": "60WRcxe2SVhK",
        "outputId": "c1e55d7f-7b06-4f97-dd1f-92d9f885f6b5"
      },
      "source": [
        "import numpy as np\n",
        "from numpy import linspace, pi, exp, sin, log, sqrt\n",
        "import matplotlib.pyplot as plt\n",
        "\n",
        "def int3(x):\n",
        "  return np.sin(2*np.pi*x)\n",
        "\n",
        "def int9(x):\n",
        "  return x/np.sqrt(4+x**2)\n",
        "\n",
        "def int22(x):\n",
        "  return 1/np.log(x)\n",
        "\n",
        "def LeftInt(x, func):\n",
        "  a = 0\n",
        "  b = 2\n",
        "  n = 50\n",
        "  h = (b - a)/(n - 1)\n",
        "  x_t = np.arange(a, b, h)\n",
        "  y_t = func(x_t)\n",
        "\n",
        "  L = 0\n",
        "  for i in range(n - 1):\n",
        "    L += h * y_t[i]\n",
        "  return L\n",
        "\n",
        "def RightInt(x, func):\n",
        "  a = 0\n",
        "  b = 2\n",
        "  n = 50\n",
        "  h = (b - a)/(n - 1)\n",
        "  x_t = np.arange(a, b, h)\n",
        "  y_t = func(x_t)\n",
        "\n",
        "  R = 0\n",
        "  for i in range(n + 1):\n",
        "    R += h * y_t[i - 2]\n",
        "  return R\n",
        "\n",
        "def Trapezoid(x, func):\n",
        "  a = 0\n",
        "  b = 2\n",
        "  n = 50\n",
        "  h = (b - a)/(n - 1)\n",
        "  x_t = np.arange(a, b, h)\n",
        "  y_t = func(x_t)\n",
        "\n",
        "  T = 0\n",
        "  for i in range(n - 1):\n",
        "    T += h * (y_t[i + 1] + y_t[i])/2\n",
        "  return T\n",
        "\n",
        "\n",
        "\n",
        "print(LeftInt(np.arange(0, 2, 0.01), int9))\n",
        "print(RightInt(np.arange(0, 2, 0.01), int9))\n",
        "print(Trapezoid(np.arange(0, 2, 0.01), int9))"
      ],
      "execution_count": null,
      "outputs": [
        {
          "output_type": "stream",
          "name": "stdout",
          "text": [
            "0.813951498852244\n",
            "0.8713754423625703\n",
            "0.8283822494887042\n"
          ]
        }
      ]
    }
  ]
}